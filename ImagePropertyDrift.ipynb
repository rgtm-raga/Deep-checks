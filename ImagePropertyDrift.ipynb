{
 "cells": [
  {
   "cell_type": "code",
   "execution_count": 1,
   "id": "e0d0ec2f-6acc-44a1-9b0c-a0a0b41083e9",
   "metadata": {},
   "outputs": [],
   "source": [
    "%matplotlib inline\n",
    "# !pip install --upgrade plotly \n",
    "# deepchecks for tabular data:\n",
    "!pip install deepchecks --upgrade -qq\n",
    "# for installing deepchecks including the computer vision subpackage (note - Pytorch should be installed separately):\n",
    "!pip install \"deepchecks[vision]\" --upgrade -qq\n"
   ]
  },
  {
   "cell_type": "code",
   "execution_count": 68,
   "id": "8275b252-8606-4a86-8103-8f10b317ad2b",
   "metadata": {},
   "outputs": [],
   "source": [
    "import os,argparse\n",
    "from skimage import io, transform\n",
    "from PIL import Image\n",
    "import pandas as pd\n",
    "import numpy as np\n",
    "\n",
    "import torch\n",
    "from torch.utils.data import Dataset,DataLoader\n",
    "import torchvision.transforms as transforms\n",
    "\n",
    "import deepchecks\n",
    "from deepchecks.vision import VisionData\n",
    "from deepchecks.vision.checks import ImagePropertyDrift\n",
    "\n",
    "from typing import Any, Dict, Mapping, Optional, Sequence, Union\n",
    "\n",
    "import torch\n",
    "from ignite.metrics import Metric\n",
    "from torch import nn\n",
    "\n",
    "from deepchecks.core.check_result import CheckResult\n",
    "from deepchecks.core.checks import DatasetKind, ModelOnlyBaseCheck, SingleDatasetBaseCheck, TrainTestBaseCheck\n",
    "from deepchecks.utils.ipython import ProgressBarGroup\n",
    "from deepchecks.vision import deprecation_warnings  # pylint: disable=unused-import # noqa: F401\n",
    "from deepchecks.vision._shared_docs import docstrings\n",
    "from deepchecks.vision.batch_wrapper import Batch\n",
    "from deepchecks.vision.context import Context\n",
    "from deepchecks.vision.utils.vision_properties import STATIC_PROPERTIES_FORMAT\n",
    "from deepchecks.vision.vision_data import VisionData"
   ]
  },
  {
   "cell_type": "code",
   "execution_count": 69,
   "id": "ecbc1d17-5275-466b-86cc-1e99f52eb70f",
   "metadata": {},
   "outputs": [],
   "source": [
    "train_data_dir = \"datasets/DataSets/train/\"\n",
    "test_data_dir = \"datasets/DataSets/val/\"\n",
    "# train_data_dir = \"red\"\n",
    "# test_data_dir = \"green\"\n",
    "recursive=True\n",
    "class DatasetLoader(Dataset):\n",
    "    def __init__(self, root):\n",
    "        self.root = root\n",
    "        img_paths = []\n",
    "        img_labels = []\n",
    "        label = root.split('/')[-1]       \n",
    "        if recursive :\n",
    "            for filename in os.listdir(root):\n",
    "                if filename.split('.')[1] not in ['png','jpg','jpeg'] : \n",
    "                    continue\n",
    "                img_paths.append(os.path.join(root,filename))\n",
    "                img_labels.append(label)\n",
    "        else :\n",
    "            categories = os.listdir(root)\n",
    "            for cat_index, cat in enumerate(categories):\n",
    "                directory = os.path.join(root,cat)\n",
    "                for filename in os.listdir(directory):\n",
    "                    if filename.split('.')[1] not in ['png','jpg','jpeg'] : \n",
    "                        continue\n",
    "                    img_paths.append(os.path.join(directory,filename))\n",
    "                    img_labels.append(cat_index)\n",
    "\n",
    "\n",
    "        self.images_filepaths = img_paths\n",
    "        self.labels = img_labels\n",
    "\n",
    "    def image_from_path(self,path) :\n",
    "        trans = transforms.ToTensor()\n",
    "        return trans(Image.open(path))\n",
    "    def __getitem__(self, idx):\n",
    "        return self.image_from_path(self.images_filepaths[idx]), self.labels[idx]\n",
    "    def __len__(self):\n",
    "        return len(self.images_filepaths)\n",
    "\n",
    "class DeepCheckData(VisionData):\n",
    "    def batch_to_images(self, batch):\n",
    "        imgs = batch[0].detach().numpy().transpose((0, 2, 3, 1))\n",
    "        return imgs*255"
   ]
  },
  {
   "cell_type": "code",
   "execution_count": 70,
   "id": "8b982d6a-df0a-43a4-9edf-78fcceccde7b",
   "metadata": {},
   "outputs": [],
   "source": [
    "labels = os.listdir(train_data_dir)\n",
    "train_images,test_images=[],[]\n",
    "for label in labels:\n",
    "    train_path=os.path.join(train_data_dir,label)\n",
    "    test_path=os.path.join(test_data_dir,label)\n",
    "    for image in os.listdir(train_path):\n",
    "        train_images.append(image)\n",
    "        \n",
    "    for image in os.listdir(test_path):\n",
    "        test_images.append(image)"
   ]
  },
  {
   "cell_type": "markdown",
   "id": "b32e29aa-e117-4cc5-a36b-3c55cb32df02",
   "metadata": {},
   "source": [
    "### Class wise drift score"
   ]
  },
  {
   "cell_type": "code",
   "execution_count": 5,
   "id": "088878ad-3e4e-4126-ab54-3e48ac717749",
   "metadata": {},
   "outputs": [],
   "source": [
    "os.chdir(\"/project/datasets/\")\n",
    "# !ls datasets"
   ]
  },
  {
   "cell_type": "code",
   "execution_count": 72,
   "id": "b2a34e3c-b726-4ea1-a377-3e8998c94d91",
   "metadata": {},
   "outputs": [
    {
     "name": "stderr",
     "output_type": "stream",
     "text": [
      "deepchecks - WARNING - batch_to_labels() was not implemented, some checks will not run\n",
      "deepchecks - WARNING - batch_to_labels() was not implemented, some checks will not run\n"
     ]
    },
    {
     "data": {
      "text/html": [
       "\n",
       "    <style>\n",
       "        progress {\n",
       "            -webkit-appearance: none;\n",
       "            border: none;\n",
       "            border-radius: 3px;\n",
       "            width: 300px;\n",
       "            height: 20px;\n",
       "            vertical-align: middle;\n",
       "            margin-right: 10px;\n",
       "            background-color: aliceblue;\n",
       "        }\n",
       "        progress::-webkit-progress-bar {\n",
       "            border-radius: 3px;\n",
       "            background-color: aliceblue;\n",
       "        }\n",
       "        progress::-webkit-progress-value {\n",
       "            background-color: #9d60fb;\n",
       "        }\n",
       "        progress::-moz-progress-bar {\n",
       "            background-color: #9d60fb;\n",
       "        }\n",
       "    </style>\n",
       "    "
      ]
     },
     "metadata": {},
     "output_type": "display_data"
    },
    {
     "data": {
      "text/html": []
     },
     "metadata": {},
     "output_type": "display_data"
    },
    {
     "name": "stderr",
     "output_type": "stream",
     "text": [
      "deepchecks - WARNING - Checks will run on the cpu by default. To make use of cuda devices, use the device parameter in the run function.\n"
     ]
    },
    {
     "data": {
      "text/html": [
       "\n",
       "    <style>\n",
       "        progress {\n",
       "            -webkit-appearance: none;\n",
       "            border: none;\n",
       "            border-radius: 3px;\n",
       "            width: 300px;\n",
       "            height: 20px;\n",
       "            vertical-align: middle;\n",
       "            margin-right: 10px;\n",
       "            background-color: aliceblue;\n",
       "        }\n",
       "        progress::-webkit-progress-bar {\n",
       "            border-radius: 3px;\n",
       "            background-color: aliceblue;\n",
       "        }\n",
       "        progress::-webkit-progress-value {\n",
       "            background-color: #9d60fb;\n",
       "        }\n",
       "        progress::-moz-progress-bar {\n",
       "            background-color: #9d60fb;\n",
       "        }\n",
       "    </style>\n",
       "    "
      ]
     },
     "metadata": {},
     "output_type": "display_data"
    },
    {
     "data": {
      "text/html": []
     },
     "metadata": {},
     "output_type": "display_data"
    },
    {
     "data": {
      "text/html": [
       "\n",
       "    <style>\n",
       "        progress {\n",
       "            -webkit-appearance: none;\n",
       "            border: none;\n",
       "            border-radius: 3px;\n",
       "            width: 300px;\n",
       "            height: 20px;\n",
       "            vertical-align: middle;\n",
       "            margin-right: 10px;\n",
       "            background-color: aliceblue;\n",
       "        }\n",
       "        progress::-webkit-progress-bar {\n",
       "            border-radius: 3px;\n",
       "            background-color: aliceblue;\n",
       "        }\n",
       "        progress::-webkit-progress-value {\n",
       "            background-color: #9d60fb;\n",
       "        }\n",
       "        progress::-moz-progress-bar {\n",
       "            background-color: #9d60fb;\n",
       "        }\n",
       "    </style>\n",
       "    "
      ]
     },
     "metadata": {},
     "output_type": "display_data"
    },
    {
     "data": {
      "text/html": []
     },
     "metadata": {},
     "output_type": "display_data"
    },
    {
     "data": {
      "text/html": [
       "\n",
       "    <style>\n",
       "        progress {\n",
       "            -webkit-appearance: none;\n",
       "            border: none;\n",
       "            border-radius: 3px;\n",
       "            width: 300px;\n",
       "            height: 20px;\n",
       "            vertical-align: middle;\n",
       "            margin-right: 10px;\n",
       "            background-color: aliceblue;\n",
       "        }\n",
       "        progress::-webkit-progress-bar {\n",
       "            border-radius: 3px;\n",
       "            background-color: aliceblue;\n",
       "        }\n",
       "        progress::-webkit-progress-value {\n",
       "            background-color: #9d60fb;\n",
       "        }\n",
       "        progress::-moz-progress-bar {\n",
       "            background-color: #9d60fb;\n",
       "        }\n",
       "    </style>\n",
       "    "
      ]
     },
     "metadata": {},
     "output_type": "display_data"
    },
    {
     "data": {
      "text/html": []
     },
     "metadata": {},
     "output_type": "display_data"
    },
    {
     "name": "stderr",
     "output_type": "stream",
     "text": [
      "deepchecks - WARNING - batch_to_labels() was not implemented, some checks will not run\n",
      "deepchecks - WARNING - batch_to_labels() was not implemented, some checks will not run\n"
     ]
    },
    {
     "data": {
      "text/html": [
       "\n",
       "    <style>\n",
       "        progress {\n",
       "            -webkit-appearance: none;\n",
       "            border: none;\n",
       "            border-radius: 3px;\n",
       "            width: 300px;\n",
       "            height: 20px;\n",
       "            vertical-align: middle;\n",
       "            margin-right: 10px;\n",
       "            background-color: aliceblue;\n",
       "        }\n",
       "        progress::-webkit-progress-bar {\n",
       "            border-radius: 3px;\n",
       "            background-color: aliceblue;\n",
       "        }\n",
       "        progress::-webkit-progress-value {\n",
       "            background-color: #9d60fb;\n",
       "        }\n",
       "        progress::-moz-progress-bar {\n",
       "            background-color: #9d60fb;\n",
       "        }\n",
       "    </style>\n",
       "    "
      ]
     },
     "metadata": {},
     "output_type": "display_data"
    },
    {
     "data": {
      "text/html": []
     },
     "metadata": {},
     "output_type": "display_data"
    },
    {
     "name": "stderr",
     "output_type": "stream",
     "text": [
      "deepchecks - WARNING - Checks will run on the cpu by default. To make use of cuda devices, use the device parameter in the run function.\n"
     ]
    },
    {
     "data": {
      "text/html": [
       "\n",
       "    <style>\n",
       "        progress {\n",
       "            -webkit-appearance: none;\n",
       "            border: none;\n",
       "            border-radius: 3px;\n",
       "            width: 300px;\n",
       "            height: 20px;\n",
       "            vertical-align: middle;\n",
       "            margin-right: 10px;\n",
       "            background-color: aliceblue;\n",
       "        }\n",
       "        progress::-webkit-progress-bar {\n",
       "            border-radius: 3px;\n",
       "            background-color: aliceblue;\n",
       "        }\n",
       "        progress::-webkit-progress-value {\n",
       "            background-color: #9d60fb;\n",
       "        }\n",
       "        progress::-moz-progress-bar {\n",
       "            background-color: #9d60fb;\n",
       "        }\n",
       "    </style>\n",
       "    "
      ]
     },
     "metadata": {},
     "output_type": "display_data"
    },
    {
     "data": {
      "text/html": []
     },
     "metadata": {},
     "output_type": "display_data"
    },
    {
     "data": {
      "text/html": [
       "\n",
       "    <style>\n",
       "        progress {\n",
       "            -webkit-appearance: none;\n",
       "            border: none;\n",
       "            border-radius: 3px;\n",
       "            width: 300px;\n",
       "            height: 20px;\n",
       "            vertical-align: middle;\n",
       "            margin-right: 10px;\n",
       "            background-color: aliceblue;\n",
       "        }\n",
       "        progress::-webkit-progress-bar {\n",
       "            border-radius: 3px;\n",
       "            background-color: aliceblue;\n",
       "        }\n",
       "        progress::-webkit-progress-value {\n",
       "            background-color: #9d60fb;\n",
       "        }\n",
       "        progress::-moz-progress-bar {\n",
       "            background-color: #9d60fb;\n",
       "        }\n",
       "    </style>\n",
       "    "
      ]
     },
     "metadata": {},
     "output_type": "display_data"
    },
    {
     "data": {
      "text/html": []
     },
     "metadata": {},
     "output_type": "display_data"
    },
    {
     "data": {
      "text/html": [
       "\n",
       "    <style>\n",
       "        progress {\n",
       "            -webkit-appearance: none;\n",
       "            border: none;\n",
       "            border-radius: 3px;\n",
       "            width: 300px;\n",
       "            height: 20px;\n",
       "            vertical-align: middle;\n",
       "            margin-right: 10px;\n",
       "            background-color: aliceblue;\n",
       "        }\n",
       "        progress::-webkit-progress-bar {\n",
       "            border-radius: 3px;\n",
       "            background-color: aliceblue;\n",
       "        }\n",
       "        progress::-webkit-progress-value {\n",
       "            background-color: #9d60fb;\n",
       "        }\n",
       "        progress::-moz-progress-bar {\n",
       "            background-color: #9d60fb;\n",
       "        }\n",
       "    </style>\n",
       "    "
      ]
     },
     "metadata": {},
     "output_type": "display_data"
    },
    {
     "data": {
      "text/html": []
     },
     "metadata": {},
     "output_type": "display_data"
    },
    {
     "name": "stderr",
     "output_type": "stream",
     "text": [
      "deepchecks - WARNING - batch_to_labels() was not implemented, some checks will not run\n",
      "deepchecks - WARNING - batch_to_labels() was not implemented, some checks will not run\n"
     ]
    },
    {
     "data": {
      "text/html": [
       "\n",
       "    <style>\n",
       "        progress {\n",
       "            -webkit-appearance: none;\n",
       "            border: none;\n",
       "            border-radius: 3px;\n",
       "            width: 300px;\n",
       "            height: 20px;\n",
       "            vertical-align: middle;\n",
       "            margin-right: 10px;\n",
       "            background-color: aliceblue;\n",
       "        }\n",
       "        progress::-webkit-progress-bar {\n",
       "            border-radius: 3px;\n",
       "            background-color: aliceblue;\n",
       "        }\n",
       "        progress::-webkit-progress-value {\n",
       "            background-color: #9d60fb;\n",
       "        }\n",
       "        progress::-moz-progress-bar {\n",
       "            background-color: #9d60fb;\n",
       "        }\n",
       "    </style>\n",
       "    "
      ]
     },
     "metadata": {},
     "output_type": "display_data"
    },
    {
     "data": {
      "text/html": []
     },
     "metadata": {},
     "output_type": "display_data"
    },
    {
     "name": "stderr",
     "output_type": "stream",
     "text": [
      "deepchecks - WARNING - Checks will run on the cpu by default. To make use of cuda devices, use the device parameter in the run function.\n"
     ]
    },
    {
     "data": {
      "text/html": [
       "\n",
       "    <style>\n",
       "        progress {\n",
       "            -webkit-appearance: none;\n",
       "            border: none;\n",
       "            border-radius: 3px;\n",
       "            width: 300px;\n",
       "            height: 20px;\n",
       "            vertical-align: middle;\n",
       "            margin-right: 10px;\n",
       "            background-color: aliceblue;\n",
       "        }\n",
       "        progress::-webkit-progress-bar {\n",
       "            border-radius: 3px;\n",
       "            background-color: aliceblue;\n",
       "        }\n",
       "        progress::-webkit-progress-value {\n",
       "            background-color: #9d60fb;\n",
       "        }\n",
       "        progress::-moz-progress-bar {\n",
       "            background-color: #9d60fb;\n",
       "        }\n",
       "    </style>\n",
       "    "
      ]
     },
     "metadata": {},
     "output_type": "display_data"
    },
    {
     "data": {
      "text/html": []
     },
     "metadata": {},
     "output_type": "display_data"
    },
    {
     "data": {
      "text/html": [
       "\n",
       "    <style>\n",
       "        progress {\n",
       "            -webkit-appearance: none;\n",
       "            border: none;\n",
       "            border-radius: 3px;\n",
       "            width: 300px;\n",
       "            height: 20px;\n",
       "            vertical-align: middle;\n",
       "            margin-right: 10px;\n",
       "            background-color: aliceblue;\n",
       "        }\n",
       "        progress::-webkit-progress-bar {\n",
       "            border-radius: 3px;\n",
       "            background-color: aliceblue;\n",
       "        }\n",
       "        progress::-webkit-progress-value {\n",
       "            background-color: #9d60fb;\n",
       "        }\n",
       "        progress::-moz-progress-bar {\n",
       "            background-color: #9d60fb;\n",
       "        }\n",
       "    </style>\n",
       "    "
      ]
     },
     "metadata": {},
     "output_type": "display_data"
    },
    {
     "data": {
      "text/html": []
     },
     "metadata": {},
     "output_type": "display_data"
    },
    {
     "data": {
      "text/html": [
       "\n",
       "    <style>\n",
       "        progress {\n",
       "            -webkit-appearance: none;\n",
       "            border: none;\n",
       "            border-radius: 3px;\n",
       "            width: 300px;\n",
       "            height: 20px;\n",
       "            vertical-align: middle;\n",
       "            margin-right: 10px;\n",
       "            background-color: aliceblue;\n",
       "        }\n",
       "        progress::-webkit-progress-bar {\n",
       "            border-radius: 3px;\n",
       "            background-color: aliceblue;\n",
       "        }\n",
       "        progress::-webkit-progress-value {\n",
       "            background-color: #9d60fb;\n",
       "        }\n",
       "        progress::-moz-progress-bar {\n",
       "            background-color: #9d60fb;\n",
       "        }\n",
       "    </style>\n",
       "    "
      ]
     },
     "metadata": {},
     "output_type": "display_data"
    },
    {
     "data": {
      "text/html": []
     },
     "metadata": {},
     "output_type": "display_data"
    },
    {
     "name": "stderr",
     "output_type": "stream",
     "text": [
      "deepchecks - WARNING - batch_to_labels() was not implemented, some checks will not run\n",
      "deepchecks - WARNING - batch_to_labels() was not implemented, some checks will not run\n"
     ]
    },
    {
     "data": {
      "text/html": [
       "\n",
       "    <style>\n",
       "        progress {\n",
       "            -webkit-appearance: none;\n",
       "            border: none;\n",
       "            border-radius: 3px;\n",
       "            width: 300px;\n",
       "            height: 20px;\n",
       "            vertical-align: middle;\n",
       "            margin-right: 10px;\n",
       "            background-color: aliceblue;\n",
       "        }\n",
       "        progress::-webkit-progress-bar {\n",
       "            border-radius: 3px;\n",
       "            background-color: aliceblue;\n",
       "        }\n",
       "        progress::-webkit-progress-value {\n",
       "            background-color: #9d60fb;\n",
       "        }\n",
       "        progress::-moz-progress-bar {\n",
       "            background-color: #9d60fb;\n",
       "        }\n",
       "    </style>\n",
       "    "
      ]
     },
     "metadata": {},
     "output_type": "display_data"
    },
    {
     "data": {
      "text/html": []
     },
     "metadata": {},
     "output_type": "display_data"
    },
    {
     "name": "stderr",
     "output_type": "stream",
     "text": [
      "deepchecks - WARNING - Checks will run on the cpu by default. To make use of cuda devices, use the device parameter in the run function.\n"
     ]
    },
    {
     "data": {
      "text/html": [
       "\n",
       "    <style>\n",
       "        progress {\n",
       "            -webkit-appearance: none;\n",
       "            border: none;\n",
       "            border-radius: 3px;\n",
       "            width: 300px;\n",
       "            height: 20px;\n",
       "            vertical-align: middle;\n",
       "            margin-right: 10px;\n",
       "            background-color: aliceblue;\n",
       "        }\n",
       "        progress::-webkit-progress-bar {\n",
       "            border-radius: 3px;\n",
       "            background-color: aliceblue;\n",
       "        }\n",
       "        progress::-webkit-progress-value {\n",
       "            background-color: #9d60fb;\n",
       "        }\n",
       "        progress::-moz-progress-bar {\n",
       "            background-color: #9d60fb;\n",
       "        }\n",
       "    </style>\n",
       "    "
      ]
     },
     "metadata": {},
     "output_type": "display_data"
    },
    {
     "data": {
      "text/html": []
     },
     "metadata": {},
     "output_type": "display_data"
    },
    {
     "data": {
      "text/html": [
       "\n",
       "    <style>\n",
       "        progress {\n",
       "            -webkit-appearance: none;\n",
       "            border: none;\n",
       "            border-radius: 3px;\n",
       "            width: 300px;\n",
       "            height: 20px;\n",
       "            vertical-align: middle;\n",
       "            margin-right: 10px;\n",
       "            background-color: aliceblue;\n",
       "        }\n",
       "        progress::-webkit-progress-bar {\n",
       "            border-radius: 3px;\n",
       "            background-color: aliceblue;\n",
       "        }\n",
       "        progress::-webkit-progress-value {\n",
       "            background-color: #9d60fb;\n",
       "        }\n",
       "        progress::-moz-progress-bar {\n",
       "            background-color: #9d60fb;\n",
       "        }\n",
       "    </style>\n",
       "    "
      ]
     },
     "metadata": {},
     "output_type": "display_data"
    },
    {
     "data": {
      "text/html": []
     },
     "metadata": {},
     "output_type": "display_data"
    },
    {
     "data": {
      "text/html": [
       "\n",
       "    <style>\n",
       "        progress {\n",
       "            -webkit-appearance: none;\n",
       "            border: none;\n",
       "            border-radius: 3px;\n",
       "            width: 300px;\n",
       "            height: 20px;\n",
       "            vertical-align: middle;\n",
       "            margin-right: 10px;\n",
       "            background-color: aliceblue;\n",
       "        }\n",
       "        progress::-webkit-progress-bar {\n",
       "            border-radius: 3px;\n",
       "            background-color: aliceblue;\n",
       "        }\n",
       "        progress::-webkit-progress-value {\n",
       "            background-color: #9d60fb;\n",
       "        }\n",
       "        progress::-moz-progress-bar {\n",
       "            background-color: #9d60fb;\n",
       "        }\n",
       "    </style>\n",
       "    "
      ]
     },
     "metadata": {},
     "output_type": "display_data"
    },
    {
     "data": {
      "text/html": []
     },
     "metadata": {},
     "output_type": "display_data"
    },
    {
     "name": "stderr",
     "output_type": "stream",
     "text": [
      "deepchecks - WARNING - batch_to_labels() was not implemented, some checks will not run\n",
      "deepchecks - WARNING - batch_to_labels() was not implemented, some checks will not run\n"
     ]
    },
    {
     "data": {
      "text/html": [
       "\n",
       "    <style>\n",
       "        progress {\n",
       "            -webkit-appearance: none;\n",
       "            border: none;\n",
       "            border-radius: 3px;\n",
       "            width: 300px;\n",
       "            height: 20px;\n",
       "            vertical-align: middle;\n",
       "            margin-right: 10px;\n",
       "            background-color: aliceblue;\n",
       "        }\n",
       "        progress::-webkit-progress-bar {\n",
       "            border-radius: 3px;\n",
       "            background-color: aliceblue;\n",
       "        }\n",
       "        progress::-webkit-progress-value {\n",
       "            background-color: #9d60fb;\n",
       "        }\n",
       "        progress::-moz-progress-bar {\n",
       "            background-color: #9d60fb;\n",
       "        }\n",
       "    </style>\n",
       "    "
      ]
     },
     "metadata": {},
     "output_type": "display_data"
    },
    {
     "data": {
      "text/html": []
     },
     "metadata": {},
     "output_type": "display_data"
    },
    {
     "name": "stderr",
     "output_type": "stream",
     "text": [
      "deepchecks - WARNING - Checks will run on the cpu by default. To make use of cuda devices, use the device parameter in the run function.\n"
     ]
    },
    {
     "data": {
      "text/html": [
       "\n",
       "    <style>\n",
       "        progress {\n",
       "            -webkit-appearance: none;\n",
       "            border: none;\n",
       "            border-radius: 3px;\n",
       "            width: 300px;\n",
       "            height: 20px;\n",
       "            vertical-align: middle;\n",
       "            margin-right: 10px;\n",
       "            background-color: aliceblue;\n",
       "        }\n",
       "        progress::-webkit-progress-bar {\n",
       "            border-radius: 3px;\n",
       "            background-color: aliceblue;\n",
       "        }\n",
       "        progress::-webkit-progress-value {\n",
       "            background-color: #9d60fb;\n",
       "        }\n",
       "        progress::-moz-progress-bar {\n",
       "            background-color: #9d60fb;\n",
       "        }\n",
       "    </style>\n",
       "    "
      ]
     },
     "metadata": {},
     "output_type": "display_data"
    },
    {
     "data": {
      "text/html": []
     },
     "metadata": {},
     "output_type": "display_data"
    },
    {
     "data": {
      "text/html": [
       "\n",
       "    <style>\n",
       "        progress {\n",
       "            -webkit-appearance: none;\n",
       "            border: none;\n",
       "            border-radius: 3px;\n",
       "            width: 300px;\n",
       "            height: 20px;\n",
       "            vertical-align: middle;\n",
       "            margin-right: 10px;\n",
       "            background-color: aliceblue;\n",
       "        }\n",
       "        progress::-webkit-progress-bar {\n",
       "            border-radius: 3px;\n",
       "            background-color: aliceblue;\n",
       "        }\n",
       "        progress::-webkit-progress-value {\n",
       "            background-color: #9d60fb;\n",
       "        }\n",
       "        progress::-moz-progress-bar {\n",
       "            background-color: #9d60fb;\n",
       "        }\n",
       "    </style>\n",
       "    "
      ]
     },
     "metadata": {},
     "output_type": "display_data"
    },
    {
     "data": {
      "text/html": []
     },
     "metadata": {},
     "output_type": "display_data"
    },
    {
     "data": {
      "text/html": [
       "\n",
       "    <style>\n",
       "        progress {\n",
       "            -webkit-appearance: none;\n",
       "            border: none;\n",
       "            border-radius: 3px;\n",
       "            width: 300px;\n",
       "            height: 20px;\n",
       "            vertical-align: middle;\n",
       "            margin-right: 10px;\n",
       "            background-color: aliceblue;\n",
       "        }\n",
       "        progress::-webkit-progress-bar {\n",
       "            border-radius: 3px;\n",
       "            background-color: aliceblue;\n",
       "        }\n",
       "        progress::-webkit-progress-value {\n",
       "            background-color: #9d60fb;\n",
       "        }\n",
       "        progress::-moz-progress-bar {\n",
       "            background-color: #9d60fb;\n",
       "        }\n",
       "    </style>\n",
       "    "
      ]
     },
     "metadata": {},
     "output_type": "display_data"
    },
    {
     "data": {
      "text/html": []
     },
     "metadata": {},
     "output_type": "display_data"
    }
   ],
   "source": [
    "res={}\n",
    "for label in labels :\n",
    "    train_dataset = DatasetLoader(train_data_dir+label)\n",
    "    val_dataset = DatasetLoader(test_data_dir+label)\n",
    "\n",
    "    train_dataloader = DataLoader(train_dataset, batch_size=1, shuffle=True,generator=torch.Generator())\n",
    "    test_dataloader = DataLoader(val_dataset, batch_size=1, shuffle=True,generator=torch.Generator())\n",
    "\n",
    "    train_ds = DeepCheckData(train_dataloader)\n",
    "    test_ds = DeepCheckData(test_dataloader)\n",
    "\n",
    "    check = ImagePropertyDrift()#.add_condition_drift_score_less_than(0.1)\n",
    "    result = check.run(train_ds, test_ds)\n",
    "    res[label]=result"
   ]
  },
  {
   "cell_type": "code",
   "execution_count": 8,
   "id": "b5c739e5-389f-4d62-ab26-f8483f9142a9",
   "metadata": {},
   "outputs": [],
   "source": [
    "# properties=['Aspect Ratio','Area','Brightness','RMS Contrast','Mean Red Relative Intensity','Mean Green Relative Intensity',\n",
    "#             'Mean Blue Relative Intensity']\n",
    "intermediate_result={}\n",
    "for label in labels:\n",
    "    intermediate_result[label]={}\n",
    "    for j in range(1,8):\n",
    "        intermediate_result[label][result.display[j].layout.title.text]={\"drift_score\":res[label].value[result.display[j].layout.title.text]}\n",
    "        intermediate_result[label][result.display[j].layout.title.text]['Train Dataset']={}\n",
    "        intermediate_result[label][result.display[j].layout.title.text]['Test Dataset']={}\n",
    "        intermediate_result[label][result.display[j].layout.title.text]['Train Dataset']['x']=list(res[label].display[j].data[1]['x'])\n",
    "        intermediate_result[label][result.display[j].layout.title.text]['Train Dataset']['Probability Density']=res[label].display[j].data[1]['y']\n",
    "        intermediate_result[label][result.display[j].layout.title.text]['Test Dataset']['x']=list(res[label].display[j].data[4]['x'])\n",
    "        intermediate_result[label][result.display[j].layout.title.text]['Test Dataset']['Probability Density']=res[label].display[j].data[4]['y']\n"
   ]
  },
  {
   "cell_type": "code",
   "execution_count": 166,
   "id": "e8f4c8ae-085b-4918-92fa-36f12fd62d96",
   "metadata": {},
   "outputs": [
    {
     "name": "stderr",
     "output_type": "stream",
     "text": [
      "deepchecks - WARNING - batch_to_labels() was not implemented, some checks will not run\n",
      "deepchecks - WARNING - batch_to_labels() was not implemented, some checks will not run\n"
     ]
    },
    {
     "data": {
      "text/html": [
       "\n",
       "    <style>\n",
       "        progress {\n",
       "            -webkit-appearance: none;\n",
       "            border: none;\n",
       "            border-radius: 3px;\n",
       "            width: 300px;\n",
       "            height: 20px;\n",
       "            vertical-align: middle;\n",
       "            margin-right: 10px;\n",
       "            background-color: aliceblue;\n",
       "        }\n",
       "        progress::-webkit-progress-bar {\n",
       "            border-radius: 3px;\n",
       "            background-color: aliceblue;\n",
       "        }\n",
       "        progress::-webkit-progress-value {\n",
       "            background-color: #9d60fb;\n",
       "        }\n",
       "        progress::-moz-progress-bar {\n",
       "            background-color: #9d60fb;\n",
       "        }\n",
       "    </style>\n",
       "    "
      ]
     },
     "metadata": {},
     "output_type": "display_data"
    },
    {
     "data": {
      "text/html": []
     },
     "metadata": {},
     "output_type": "display_data"
    },
    {
     "name": "stderr",
     "output_type": "stream",
     "text": [
      "deepchecks - WARNING - Checks will run on the cpu by default. To make use of cuda devices, use the device parameter in the run function.\n"
     ]
    },
    {
     "data": {
      "text/html": [
       "\n",
       "    <style>\n",
       "        progress {\n",
       "            -webkit-appearance: none;\n",
       "            border: none;\n",
       "            border-radius: 3px;\n",
       "            width: 300px;\n",
       "            height: 20px;\n",
       "            vertical-align: middle;\n",
       "            margin-right: 10px;\n",
       "            background-color: aliceblue;\n",
       "        }\n",
       "        progress::-webkit-progress-bar {\n",
       "            border-radius: 3px;\n",
       "            background-color: aliceblue;\n",
       "        }\n",
       "        progress::-webkit-progress-value {\n",
       "            background-color: #9d60fb;\n",
       "        }\n",
       "        progress::-moz-progress-bar {\n",
       "            background-color: #9d60fb;\n",
       "        }\n",
       "    </style>\n",
       "    "
      ]
     },
     "metadata": {},
     "output_type": "display_data"
    },
    {
     "data": {
      "text/html": []
     },
     "metadata": {},
     "output_type": "display_data"
    },
    {
     "data": {
      "text/html": [
       "\n",
       "    <style>\n",
       "        progress {\n",
       "            -webkit-appearance: none;\n",
       "            border: none;\n",
       "            border-radius: 3px;\n",
       "            width: 300px;\n",
       "            height: 20px;\n",
       "            vertical-align: middle;\n",
       "            margin-right: 10px;\n",
       "            background-color: aliceblue;\n",
       "        }\n",
       "        progress::-webkit-progress-bar {\n",
       "            border-radius: 3px;\n",
       "            background-color: aliceblue;\n",
       "        }\n",
       "        progress::-webkit-progress-value {\n",
       "            background-color: #9d60fb;\n",
       "        }\n",
       "        progress::-moz-progress-bar {\n",
       "            background-color: #9d60fb;\n",
       "        }\n",
       "    </style>\n",
       "    "
      ]
     },
     "metadata": {},
     "output_type": "display_data"
    },
    {
     "data": {
      "text/html": []
     },
     "metadata": {},
     "output_type": "display_data"
    },
    {
     "data": {
      "text/html": [
       "\n",
       "    <style>\n",
       "        progress {\n",
       "            -webkit-appearance: none;\n",
       "            border: none;\n",
       "            border-radius: 3px;\n",
       "            width: 300px;\n",
       "            height: 20px;\n",
       "            vertical-align: middle;\n",
       "            margin-right: 10px;\n",
       "            background-color: aliceblue;\n",
       "        }\n",
       "        progress::-webkit-progress-bar {\n",
       "            border-radius: 3px;\n",
       "            background-color: aliceblue;\n",
       "        }\n",
       "        progress::-webkit-progress-value {\n",
       "            background-color: #9d60fb;\n",
       "        }\n",
       "        progress::-moz-progress-bar {\n",
       "            background-color: #9d60fb;\n",
       "        }\n",
       "    </style>\n",
       "    "
      ]
     },
     "metadata": {},
     "output_type": "display_data"
    },
    {
     "data": {
      "text/html": []
     },
     "metadata": {},
     "output_type": "display_data"
    }
   ],
   "source": [
    "train_dataset = DatasetLoader(train_data_dir)\n",
    "val_dataset = DatasetLoader(test_data_dir)\n",
    "\n",
    "train_dataloader = DataLoader(train_dataset, batch_size=1, shuffle=True,generator=torch.Generator())\n",
    "test_dataloader = DataLoader(val_dataset, batch_size=1, shuffle=True,generator=torch.Generator())\n",
    "\n",
    "train_ds = DeepCheckData(train_dataloader)\n",
    "test_ds = DeepCheckData(test_dataloader)\n",
    "\n",
    "check = ImagePropertyDrift()#.add_condition_drift_score_less_than(0.1)\n",
    "result = check.run(train_ds, test_ds)"
   ]
  },
  {
   "cell_type": "code",
   "execution_count": 173,
   "id": "19d6a608-b0a3-4df1-8365-dfdc20b4d8a0",
   "metadata": {},
   "outputs": [
    {
     "data": {
      "text/plain": [
       "'car_truck_drift.html'"
      ]
     },
     "execution_count": 173,
     "metadata": {},
     "output_type": "execute_result"
    }
   ],
   "source": [
    "result.save_as_html(\"car_truck_drift.html\")\n",
    "# for i in range(1,8):\n",
    "#     result.display[i].data[-6]['name']='car Dataset'\n",
    "#     result.display[i].data[-5]['name']='car Mean'\n",
    "#     result.display[i].data[-4]['name']='car Median'\n",
    "#     result.display[i].data[-3]['name']='truck Dataset'\n",
    "#     result.display[i].data[-2]['name']='truck Mean'\n",
    "#     result.display[i].data[-1]['name']='truck Median'\n"
   ]
  },
  {
   "cell_type": "code",
   "execution_count": null,
   "id": "31da9b2d-a47b-4d6c-9a7b-e2db309d4046",
   "metadata": {},
   "outputs": [],
   "source": []
  },
  {
   "cell_type": "markdown",
   "id": "8f970ea2-b951-4023-b294-2ca7a921c90f",
   "metadata": {},
   "source": [
    "=> Dockerize requirements.txt, config.txt,.py in a function, args from command line"
   ]
  },
  {
   "cell_type": "code",
   "execution_count": 156,
   "id": "ce3d7705-65e7-42ee-a122-fdd2931cbdc7",
   "metadata": {},
   "outputs": [],
   "source": [
    "# import configparser\n",
    "# config=configparser.ConfigParser()\n",
    "# config[\"DeepChecks\"]=check.config()\n",
    "# config[\"Conditions\"]={\"Classes\":\"All_ classes\",\"Drift_score_less_than\":0.001}\n",
    "# with open(\"config.ini\",'w') as configfile:\n",
    "#     config.write(configfile)"
   ]
  },
  {
   "cell_type": "code",
   "execution_count": null,
   "id": "0ae3db61-504c-4fd1-ba5d-d4204ba7fd06",
   "metadata": {},
   "outputs": [],
   "source": [
    "# def ImagePropertyDrift():\n",
    "#     parser=argparse.ArgumentParser()\n",
    "#     parser.add_atgument(\"--train_dir\",help=\"path of training images\",default=\"/project/datasets/DataSets/train/\")\n",
    "#     parser.add_atgument(\"--test_dir\",help=\"path of testing images\",default=\"/project/datasets/DataSets/val/\")\n",
    "#     parser.add_argument(\"--thres_drift\",help\"threshold drift score\",default=0.001,type=float)\n",
    "#     args=parser.parse_args()"
   ]
  },
  {
   "cell_type": "code",
   "execution_count": 63,
   "id": "edebbe1b-8014-4022-b190-29f681e42877",
   "metadata": {},
   "outputs": [],
   "source": [
    "# !unzip train.zip"
   ]
  },
  {
   "cell_type": "code",
   "execution_count": 164,
   "id": "a8420a0f-8f25-43a8-9bfa-a4c29005bde3",
   "metadata": {},
   "outputs": [],
   "source": [
    "os.chdir(\"/project\")"
   ]
  },
  {
   "cell_type": "markdown",
   "id": "08b73412-628b-4a00-8857-c457d2ccd5bf",
   "metadata": {},
   "source": [
    "## Image Dataset Drift"
   ]
  },
  {
   "cell_type": "code",
   "execution_count": 65,
   "id": "a26c87c5-dabc-405b-8c3b-7461481d4942",
   "metadata": {},
   "outputs": [],
   "source": [
    "from deepchecks.vision.checks import ImageDatasetDrift "
   ]
  },
  {
   "cell_type": "code",
   "execution_count": 66,
   "id": "02924483-26c2-409e-b4b7-4fa7fbef0b49",
   "metadata": {},
   "outputs": [
    {
     "data": {
      "text/html": [
       "\n",
       "    <style>\n",
       "        progress {\n",
       "            -webkit-appearance: none;\n",
       "            border: none;\n",
       "            border-radius: 3px;\n",
       "            width: 300px;\n",
       "            height: 20px;\n",
       "            vertical-align: middle;\n",
       "            margin-right: 10px;\n",
       "            background-color: aliceblue;\n",
       "        }\n",
       "        progress::-webkit-progress-bar {\n",
       "            border-radius: 3px;\n",
       "            background-color: aliceblue;\n",
       "        }\n",
       "        progress::-webkit-progress-value {\n",
       "            background-color: #9d60fb;\n",
       "        }\n",
       "        progress::-moz-progress-bar {\n",
       "            background-color: #9d60fb;\n",
       "        }\n",
       "    </style>\n",
       "    "
      ]
     },
     "metadata": {},
     "output_type": "display_data"
    },
    {
     "data": {
      "text/html": []
     },
     "metadata": {},
     "output_type": "display_data"
    },
    {
     "ename": "ValueError",
     "evalue": "The truth value of an array with more than one element is ambiguous. Use a.any() or a.all()",
     "output_type": "error",
     "traceback": [
      "\u001b[0;31m---------------------------------------------------------------------------\u001b[0m",
      "\u001b[0;31mValueError\u001b[0m                                Traceback (most recent call last)",
      "\u001b[0;32m/tmp/ipykernel_937/4171980781.py\u001b[0m in \u001b[0;36m<cell line: 2>\u001b[0;34m()\u001b[0m\n\u001b[1;32m      1\u001b[0m \u001b[0mcheck_data\u001b[0m\u001b[0;34m=\u001b[0m\u001b[0mImageDatasetDrift\u001b[0m\u001b[0;34m(\u001b[0m\u001b[0;34m)\u001b[0m\u001b[0;34m\u001b[0m\u001b[0;34m\u001b[0m\u001b[0m\n\u001b[0;32m----> 2\u001b[0;31m \u001b[0mresult_datacheck\u001b[0m\u001b[0;34m=\u001b[0m\u001b[0mcheck_data\u001b[0m\u001b[0;34m.\u001b[0m\u001b[0mrun\u001b[0m\u001b[0;34m(\u001b[0m\u001b[0mtrain\u001b[0m\u001b[0;34m,\u001b[0m\u001b[0mtest\u001b[0m\u001b[0;34m)\u001b[0m\u001b[0;34m\u001b[0m\u001b[0;34m\u001b[0m\u001b[0m\n\u001b[0m",
      "\u001b[0;32m/usr/local/lib/python3.8/dist-packages/deepchecks/vision/base_checks.py\u001b[0m in \u001b[0;36mrun\u001b[0;34m(self, train_dataset, test_dataset, model, model_name, scorers, scorers_per_class, device, random_state, n_samples, with_display, train_predictions, test_predictions, train_properties, test_properties)\u001b[0m\n\u001b[1;32m    162\u001b[0m             \u001b[0;32mwith\u001b[0m \u001b[0mprogressbar_factory\u001b[0m\u001b[0;34m.\u001b[0m\u001b[0mcreate_dummy\u001b[0m\u001b[0;34m(\u001b[0m\u001b[0mname\u001b[0m\u001b[0;34m=\u001b[0m\u001b[0;34m'Validating Input'\u001b[0m\u001b[0;34m)\u001b[0m\u001b[0;34m:\u001b[0m\u001b[0;34m\u001b[0m\u001b[0;34m\u001b[0m\u001b[0m\n\u001b[1;32m    163\u001b[0m                 \u001b[0;31m# Context is copying the data object, then not using the original after the init\u001b[0m\u001b[0;34m\u001b[0m\u001b[0;34m\u001b[0m\u001b[0;34m\u001b[0m\u001b[0m\n\u001b[0;32m--> 164\u001b[0;31m                 context: Context = self.context_type(\n\u001b[0m\u001b[1;32m    165\u001b[0m                     \u001b[0mtrain_dataset\u001b[0m\u001b[0;34m,\u001b[0m\u001b[0;34m\u001b[0m\u001b[0;34m\u001b[0m\u001b[0m\n\u001b[1;32m    166\u001b[0m                     \u001b[0mtest_dataset\u001b[0m\u001b[0;34m,\u001b[0m\u001b[0;34m\u001b[0m\u001b[0;34m\u001b[0m\u001b[0m\n",
      "\u001b[0;32m/usr/local/lib/python3.8/dist-packages/deepchecks/vision/context.py\u001b[0m in \u001b[0;36m__init__\u001b[0;34m(self, train, test, model, model_name, scorers, scorers_per_class, device, random_state, n_samples, with_display, train_predictions, test_predictions, train_properties, test_properties)\u001b[0m\n\u001b[1;32m     64\u001b[0m         \u001b[0;32mif\u001b[0m \u001b[0mtrain\u001b[0m \u001b[0;32mis\u001b[0m \u001b[0;32mNone\u001b[0m \u001b[0;32mand\u001b[0m \u001b[0mtest\u001b[0m \u001b[0;32mis\u001b[0m \u001b[0;32mNone\u001b[0m \u001b[0;32mand\u001b[0m \u001b[0mmodel\u001b[0m \u001b[0;32mis\u001b[0m \u001b[0;32mNone\u001b[0m\u001b[0;34m:\u001b[0m\u001b[0;34m\u001b[0m\u001b[0;34m\u001b[0m\u001b[0m\n\u001b[1;32m     65\u001b[0m             \u001b[0;32mraise\u001b[0m \u001b[0mDeepchecksValueError\u001b[0m\u001b[0;34m(\u001b[0m\u001b[0;34m'At least one dataset (or model) must be passed to the method!'\u001b[0m\u001b[0;34m)\u001b[0m\u001b[0;34m\u001b[0m\u001b[0;34m\u001b[0m\u001b[0m\n\u001b[0;32m---> 66\u001b[0;31m         \u001b[0;32mif\u001b[0m \u001b[0mtest\u001b[0m \u001b[0;32mand\u001b[0m \u001b[0;32mnot\u001b[0m \u001b[0mtrain\u001b[0m\u001b[0;34m:\u001b[0m\u001b[0;34m\u001b[0m\u001b[0;34m\u001b[0m\u001b[0m\n\u001b[0m\u001b[1;32m     67\u001b[0m             raise DatasetValidationError('Can\\'t initialize context with only test. if you have single dataset, '\n\u001b[1;32m     68\u001b[0m                                          'initialize it as train')\n",
      "\u001b[0;31mValueError\u001b[0m: The truth value of an array with more than one element is ambiguous. Use a.any() or a.all()"
     ]
    }
   ],
   "source": [
    "check_data=ImageDatasetDrift()\n",
    "result_datacheck=check_data.run(train,test)"
   ]
  },
  {
   "cell_type": "code",
   "execution_count": 193,
   "id": "9e645f95-4dce-4233-bb01-250d5a64810f",
   "metadata": {},
   "outputs": [
    {
     "data": {
      "text/plain": [
       "'dataset_check_car_truck.html'"
      ]
     },
     "execution_count": 193,
     "metadata": {},
     "output_type": "execute_result"
    }
   ],
   "source": [
    "result_datacheck.save_as_html(\"dataset_check_car_truck.html\")"
   ]
  },
  {
   "cell_type": "code",
   "execution_count": 191,
   "id": "147c4ae3-c6ca-4993-8f70-f1ded8c516cb",
   "metadata": {},
   "outputs": [],
   "source": [
    "for i in range(5,8):\n",
    "    result_datacheck.display[i].data[0]['name']='car Dataset'\n",
    "    result_datacheck.display[i].data[1]['name']='car Mean'\n",
    "    result_datacheck.display[i].data[2]['name']='car Median'\n",
    "    result_datacheck.display[i].data[3]['name']='truck Dataset'\n",
    "    result_datacheck.display[i].data[4]['name']='truck Mean'\n",
    "    result_datacheck.display[i].data[5]['name']='truck Median'"
   ]
  },
  {
   "cell_type": "code",
   "execution_count": 34,
   "id": "3428fded-2bb2-41c8-8392-c7d1112772a3",
   "metadata": {},
   "outputs": [],
   "source": [
    "# train_csv,test_csv={'images':train_images},{'images':test_images}\n",
    "train_csv,test_csv={},{}\n",
    "\n",
    "for label in labels:\n",
    "    for key in intermediate_result[label].keys():\n",
    "        train_csv['x_'+key+'_'+label]=intermediate_result[label][key]['Train Dataset']['x']\n",
    "        train_csv['y_'+key+'_'+label]=intermediate_result[label][key]['Train Dataset']['Probability Density']      \n",
    "        test_csv['x_'+key+'_'+label]=intermediate_result[label][key]['Train Dataset']['x']\n",
    "        test_csv['y_'+key+'_'+label]=intermediate_result[label][key]['Train Dataset']['Probability Density']"
   ]
  },
  {
   "cell_type": "code",
   "execution_count": 59,
   "id": "c0943cfb-9064-4386-aabc-10ba26ac8c54",
   "metadata": {},
   "outputs": [],
   "source": [
    "df_train=pd.DataFrame(train_csv,index=None)\n",
    "df_test=pd.DataFrame(test_csv,index=None)\n",
    "# sum=0\n",
    "# for label in labels:\n",
    "#     sum+=len(train_csv['y_'+key+'_'+label])\n",
    "# print(sum)"
   ]
  },
  {
   "cell_type": "code",
   "execution_count": null,
   "id": "c22c3dfe-ee10-4348-b720-56cf9f5e4f63",
   "metadata": {},
   "outputs": [],
   "source": []
  },
  {
   "cell_type": "code",
   "execution_count": null,
   "id": "105851ef-68d2-419a-860e-d24ed2349bf8",
   "metadata": {},
   "outputs": [],
   "source": [
    "# df_train.to_csv(\"code/Ravi Gautam/train.csv\")\n",
    "# df_test.to_csv(\"code/Ravi Gautam/test.csv\")"
   ]
  },
  {
   "cell_type": "code",
   "execution_count": 61,
   "id": "101def99-52b5-4a93-a1b2-a181fcf29ff2",
   "metadata": {},
   "outputs": [],
   "source": [
    "# keys=[]\n",
    "# for key in train_csv.keys():\n",
    "#     if 'x' in key.split('_'):\n",
    "#         keys.append(key)\n",
    "train=df_train[keys]\n",
    "test=df_test[keys]"
   ]
  },
  {
   "cell_type": "code",
   "execution_count": 64,
   "id": "e243bbac-141f-4756-ba96-108350508a77",
   "metadata": {},
   "outputs": [],
   "source": [
    "train=np.array(train)\n",
    "test=np.array(test)"
   ]
  },
  {
   "cell_type": "code",
   "execution_count": 115,
   "id": "b85a8e5e-6670-4b56-b6fe-a9df8c8b78cf",
   "metadata": {},
   "outputs": [
    {
     "data": {
      "text/plain": [
       "32"
      ]
     },
     "execution_count": 115,
     "metadata": {},
     "output_type": "execute_result"
    }
   ],
   "source": [
    "result.__sizeof__()"
   ]
  },
  {
   "cell_type": "code",
   "execution_count": 129,
   "id": "7d0f0924-00ca-4eac-93c2-6b78112242d3",
   "metadata": {},
   "outputs": [],
   "source": [
    "# dir(result)\n",
    "# result.display"
   ]
  },
  {
   "cell_type": "code",
   "execution_count": 4,
   "id": "bd0a0d3b-ef72-4b35-952e-18c7703918e2",
   "metadata": {},
   "outputs": [
    {
     "data": {
      "text/plain": [
       "400"
      ]
     },
     "execution_count": 4,
     "metadata": {},
     "output_type": "execute_result"
    }
   ],
   "source": [
    "import os\n",
    "len(os.listdir(\"Data folder/train/traffic\"))"
   ]
  },
  {
   "cell_type": "code",
   "execution_count": null,
   "id": "296e37fa-09ce-4fea-9e45-6db126307222",
   "metadata": {},
   "outputs": [],
   "source": []
  }
 ],
 "metadata": {
  "kernelspec": {
   "display_name": "Python 3 (ipykernel)",
   "language": "python",
   "name": "python3"
  },
  "language_info": {
   "codemirror_mode": {
    "name": "ipython",
    "version": 3
   },
   "file_extension": ".py",
   "mimetype": "text/x-python",
   "name": "python",
   "nbconvert_exporter": "python",
   "pygments_lexer": "ipython3",
   "version": "3.8.10"
  }
 },
 "nbformat": 4,
 "nbformat_minor": 5
}
